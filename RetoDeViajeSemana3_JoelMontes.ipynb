{
  "nbformat": 4,
  "nbformat_minor": 0,
  "metadata": {
    "colab": {
      "name": "RetoDeViajeSemana3_JoelMontes.ipynb",
      "provenance": [],
      "collapsed_sections": [],
      "authorship_tag": "ABX9TyPWl3HKRyEQBp1JU+oNCPl1",
      "include_colab_link": true
    },
    "kernelspec": {
      "name": "python3",
      "display_name": "Python 3"
    }
  },
  "cells": [
    {
      "cell_type": "markdown",
      "metadata": {
        "id": "view-in-github",
        "colab_type": "text"
      },
      "source": [
        "<a href=\"https://colab.research.google.com/github/JoelMontes/Reto_De_Viaje_Semana_3/blob/main/RetoDeViajeSemana3_JoelMontes.ipynb\" target=\"_parent\"><img src=\"https://colab.research.google.com/assets/colab-badge.svg\" alt=\"Open In Colab\"/></a>"
      ]
    },
    {
      "cell_type": "markdown",
      "metadata": {
        "id": "mY-r4OX702Oq"
      },
      "source": [
        "\r\n",
        "#### Futbolízate!"
      ]
    },
    {
      "cell_type": "markdown",
      "metadata": {
        "id": "jevcJLfg1HEs"
      },
      "source": [
        "Futbolízate! te llena de futbol"
      ]
    },
    {
      "cell_type": "markdown",
      "metadata": {
        "id": "v3kr-W7L1SDp"
      },
      "source": [
        "Futbolízate! es una empresa de venta de articulos deportivos que se especializa en este tan hermoso deporte como lo es el futbol. En nuestra página puedes encontrar todo lo necesario para jugar al futbol o simplemente para ir al estadio a apoyar a tu equipo favorito.\r\n",
        "Puedes adquirir productos que van desde el protagonista del deporte: **El balón!**, hasta stickers de tu equipo favorito!!\r\n",
        "Anímate y compra con nosotros. Porque **Futbolízate!** te llena de futbol."
      ]
    },
    {
      "cell_type": "markdown",
      "metadata": {
        "id": "E5Pfqsh62h-k"
      },
      "source": [
        "Participa en nuestra promoción! Sube una foto tuya o de tus amigos con un balón de futbol y obtén un **descuento especial** en tu próxima compra! Nosotros compartiremos tu fotografía en nuestras redes sociales con el hashtag **#TeamFutbolizate** para que el mundo vea tu pasión por el futbol"
      ]
    },
    {
      "cell_type": "markdown",
      "metadata": {
        "id": "fkilQqKE3F7a"
      },
      "source": [
        "Y recuerda **Futbolizate!** te llena de futbol"
      ]
    },
    {
      "cell_type": "markdown",
      "metadata": {
        "id": "5pc_rGl13Rux"
      },
      "source": [
        "__________________________________________________________________________________________________________"
      ]
    },
    {
      "cell_type": "markdown",
      "metadata": {
        "id": "Fxen77E93T4Z"
      },
      "source": [
        "*A continación se presenta una solución usando los servicios cognitivos de Azure para resolver la siguiente problemática: la empresa a la que se hace mención en el anuncio de arriba requiere aumentar sus ventas y además subir su popularidad en redes sociales. El departamento de marketing concluyó que dar promociones a los clientes sería una buena idea para atraer más personas a la página. ¿Cómo podríamos además \"matar dos pajaros de un tiro\" con el problema de la popularidad en redes sociales? Pues se llegó a la conclusión de que si los usuarios suben a la página fotografías de ellos practicando futbol se podrían compartir en redes sociales para que el mundo vea que más y más personas se están interesando en comprar con la empresa, así se podrían atraer más clientes y se aumentaría la popularidad en internet. Para que los usuarios puedan obtener su descuento, en la fotografía debe aparecer un balón, por lo que los servicios cognitivos de Azure, especialmente los de Computer Vision pueden ser de gran ayuda para analizar la gran cantidad de fotografías y así poder otorgar el descuento al cliente, del mismo modo el servicio Computer Vision puede denegar el descuento si la fotografía no corresponde con lo estipulado en la promoción.*"
      ]
    },
    {
      "cell_type": "code",
      "metadata": {
        "colab": {
          "base_uri": "https://localhost:8080/"
        },
        "id": "-Aq2DTrTAAjb",
        "outputId": "8917807d-1f6a-447a-c4ba-61637ab28ae3"
      },
      "source": [
        "pip install --upgrade azure-cognitiveservices-vision-computervision"
      ],
      "execution_count": null,
      "outputs": [
        {
          "output_type": "stream",
          "text": [
            "Collecting azure-cognitiveservices-vision-computervision\n",
            "  Downloading https://files.pythonhosted.org/packages/f2/de/03ddaffabd541829394fb6ee4615f642ed1a14438b4543a01ad58f7d222e/azure_cognitiveservices_vision_computervision-0.7.0-py2.py3-none-any.whl\n",
            "Collecting azure-common~=1.1\n",
            "  Downloading https://files.pythonhosted.org/packages/19/2b/46ada1753c4a640bc3ad04a1e20b1a5ea52a8f18079e1b8238e536aa0c98/azure_common-1.1.26-py2.py3-none-any.whl\n",
            "Collecting msrest>=0.5.0\n",
            "\u001b[?25l  Downloading https://files.pythonhosted.org/packages/e8/cc/6c96bfb3d3cf4c3bdedfa6b46503223f4c2a4fa388377697e0f8082a4fed/msrest-0.6.21-py2.py3-none-any.whl (85kB)\n",
            "\u001b[K     |████████████████████████████████| 92kB 4.6MB/s \n",
            "\u001b[?25hRequirement already satisfied, skipping upgrade: certifi>=2017.4.17 in /usr/local/lib/python3.7/dist-packages (from msrest>=0.5.0->azure-cognitiveservices-vision-computervision) (2020.12.5)\n",
            "Requirement already satisfied, skipping upgrade: requests-oauthlib>=0.5.0 in /usr/local/lib/python3.7/dist-packages (from msrest>=0.5.0->azure-cognitiveservices-vision-computervision) (1.3.0)\n",
            "Collecting isodate>=0.6.0\n",
            "\u001b[?25l  Downloading https://files.pythonhosted.org/packages/9b/9f/b36f7774ff5ea8e428fdcfc4bb332c39ee5b9362ddd3d40d9516a55221b2/isodate-0.6.0-py2.py3-none-any.whl (45kB)\n",
            "\u001b[K     |████████████████████████████████| 51kB 5.3MB/s \n",
            "\u001b[?25hRequirement already satisfied, skipping upgrade: requests~=2.16 in /usr/local/lib/python3.7/dist-packages (from msrest>=0.5.0->azure-cognitiveservices-vision-computervision) (2.23.0)\n",
            "Requirement already satisfied, skipping upgrade: oauthlib>=3.0.0 in /usr/local/lib/python3.7/dist-packages (from requests-oauthlib>=0.5.0->msrest>=0.5.0->azure-cognitiveservices-vision-computervision) (3.1.0)\n",
            "Requirement already satisfied, skipping upgrade: six in /usr/local/lib/python3.7/dist-packages (from isodate>=0.6.0->msrest>=0.5.0->azure-cognitiveservices-vision-computervision) (1.15.0)\n",
            "Requirement already satisfied, skipping upgrade: chardet<4,>=3.0.2 in /usr/local/lib/python3.7/dist-packages (from requests~=2.16->msrest>=0.5.0->azure-cognitiveservices-vision-computervision) (3.0.4)\n",
            "Requirement already satisfied, skipping upgrade: urllib3!=1.25.0,!=1.25.1,<1.26,>=1.21.1 in /usr/local/lib/python3.7/dist-packages (from requests~=2.16->msrest>=0.5.0->azure-cognitiveservices-vision-computervision) (1.24.3)\n",
            "Requirement already satisfied, skipping upgrade: idna<3,>=2.5 in /usr/local/lib/python3.7/dist-packages (from requests~=2.16->msrest>=0.5.0->azure-cognitiveservices-vision-computervision) (2.10)\n",
            "Installing collected packages: azure-common, isodate, msrest, azure-cognitiveservices-vision-computervision\n",
            "Successfully installed azure-cognitiveservices-vision-computervision-0.7.0 azure-common-1.1.26 isodate-0.6.0 msrest-0.6.21\n"
          ],
          "name": "stdout"
        }
      ]
    },
    {
      "cell_type": "code",
      "metadata": {
        "colab": {
          "base_uri": "https://localhost:8080/"
        },
        "id": "rGYEPmYUANGo",
        "outputId": "64b0b659-42ef-4927-8704-47a6fd343537"
      },
      "source": [
        "pip install pillow"
      ],
      "execution_count": null,
      "outputs": [
        {
          "output_type": "stream",
          "text": [
            "Requirement already satisfied: pillow in /usr/local/lib/python3.7/dist-packages (7.0.0)\n"
          ],
          "name": "stdout"
        }
      ]
    },
    {
      "cell_type": "code",
      "metadata": {
        "id": "WT7_ar-_AgLZ"
      },
      "source": [
        "from azure.cognitiveservices.vision.computervision import ComputerVisionClient\r\n",
        "from azure.cognitiveservices.vision.computervision.models import OperationStatusCodes\r\n",
        "from azure.cognitiveservices.vision.computervision.models import VisualFeatureTypes\r\n",
        "from msrest.authentication import CognitiveServicesCredentials\r\n",
        "\r\n",
        "from array import array\r\n",
        "import os\r\n",
        "from PIL import Image\r\n",
        "import sys\r\n",
        "import time"
      ],
      "execution_count": null,
      "outputs": []
    },
    {
      "cell_type": "code",
      "metadata": {
        "id": "TcvyGsZeA-8W"
      },
      "source": [
        "computervision_client = ComputerVisionClient(\"https://futbolizatejm.cognitiveservices.azure.com/\", CognitiveServicesCredentials(\"c13fb08c8f3440d6ade4bc9806c48461\"))"
      ],
      "execution_count": null,
      "outputs": []
    },
    {
      "cell_type": "markdown",
      "metadata": {
        "id": "_KRSq6VNr2z_"
      },
      "source": [
        "*Como nota cabe aclarar que en el hipotético sitio web de la empresa habría un apartado donde subiría la fotografía, en este caso, y para hacer que el uso del código en este cuaderno sea un poco más dinámico, se optó por usar una entrada en la que los usuarios peguen el enlace de su imágen"
      ]
    },
    {
      "cell_type": "code",
      "metadata": {
        "id": "Kduxz7BkCCoG",
        "colab": {
          "base_uri": "https://localhost:8080/"
        },
        "outputId": "72b32f2b-3f3c-465d-d676-c64f18243167"
      },
      "source": [
        "remote_image_url = input(\"Introduce la URL de tu foto: \")"
      ],
      "execution_count": null,
      "outputs": [
        {
          "output_type": "stream",
          "text": [
            "Introduce la URL de tu foto: https://media1.s-nbcnews.com/j/newscms/2019_49/3129726/191202-megan-rapinoe-ac-451p_4a5324b49e13de2c5c0f9fca16d68007.fit-760w.jpg\n"
          ],
          "name": "stdout"
        }
      ]
    },
    {
      "cell_type": "code",
      "metadata": {
        "colab": {
          "base_uri": "https://localhost:8080/"
        },
        "id": "0_6zPjDSCQKC",
        "outputId": "1bffe60d-6b29-49d6-b0aa-406c9a3019ad"
      },
      "source": [
        "from IPython.display import Image\r\n",
        "print(\"===== Promoción: sube una foto con un balón y gana un descuento =====\")\r\n",
        "# Call API\r\n",
        "description_results = computervision_client.describe_image(remote_image_url )\r\n",
        "\r\n",
        "# Get the captions (descriptions) from the response, with confidence level\r\n",
        "print(\"Revisando... \")\r\n",
        "if (len(description_results.captions) == 0):\r\n",
        "    print(\"Parece que hay un problema, intenta subir la imagen de nuevo\")\r\n",
        "else:\r\n",
        "    Image(url=remote_image_url)\r\n",
        "    x=0\r\n",
        "    for tag in description_results.tags:\r\n",
        "      if tag == \"soccer\":\r\n",
        "        x=x+1\r\n",
        "    if x==1:\r\n",
        "      print(\"Felicidades tu código de descuento es FTBZT35. Canjéalo en tu carrito de compra\")\r\n",
        "    else:  \r\n",
        "        print(\"Lo sentimos, para que tu descuento sea sea válido debes subir una foto con un balón de futbol\")"
      ],
      "execution_count": null,
      "outputs": [
        {
          "output_type": "stream",
          "text": [
            "===== Promoción: sube una foto con un balón y gana un descuento =====\n",
            "Revisando... \n",
            "Felicidades tu código de descuento es FTBZT35. Canjéalo en tu carrito de compra\n"
          ],
          "name": "stdout"
        }
      ]
    }
  ]
}